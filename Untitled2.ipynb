{
 "cells": [
  {
   "cell_type": "markdown",
   "metadata": {},
   "source": [
    "# Simple Neural Network Using Python"
   ]
  },
  {
   "cell_type": "code",
   "execution_count": 6,
   "metadata": {},
   "outputs": [
    {
     "name": "stdout",
     "output_type": "stream",
     "text": [
      "random syanpses weights are\n",
      "[[-0.16595599]\n",
      " [ 0.44064899]\n",
      " [-0.99977125]]\n",
      "synaptic weight after training\n",
      "[[ 7.26283009]\n",
      " [-0.21614618]\n",
      " [-3.41703015]]\n",
      "output after trainging:\n",
      "[[0.03178421]\n",
      " [0.97414645]\n",
      " [0.97906682]\n",
      " [0.02576499]]\n"
     ]
    }
   ],
   "source": [
    "import numpy as np\n",
    "\n",
    "#first we create a sigmoid function\n",
    "\n",
    "def sigmoid(x):\n",
    "    return 1 / (1+np.exp(-x))\n",
    "# then we provide the training inputs\n",
    "\n",
    "#function to find the derivative of the sigmoid function \n",
    "def sigmoid_derivative(x):\n",
    "    return x*(1-x)\n",
    "#inputs to train the neuron\n",
    "training_inputs = np.array([[0,0,1],\n",
    "                           [1,1,1],\n",
    "                           [1,0,1],\n",
    "                           [0,1,1]])\n",
    "#training output provided\n",
    "training_outputs = np.array([[0,1,1,0]]).T\n",
    "# we transpose it so it becomes 4*1 matrix similar to training inputs\n",
    "\n",
    "#random weight are generated\n",
    "\n",
    "np.random.seed(1)\n",
    "\n",
    "synaptic_weights = 2*np.random.random((3,1))-1\n",
    "\n",
    "print(\"random syanpses weights are\")\n",
    "print(synaptic_weights)\n",
    "timestotrain=1000\n",
    "#the more we train the more it is closer to the result\n",
    "# and if we train infinite time then we get actual result (according to theory)\n",
    "for i in range(timestotrain):\n",
    "    input_layer= training_inputs\n",
    "    \n",
    "    outputs = sigmoid(np.dot(input_layer,synaptic_weights))\n",
    "    #calculation of error i.e actualoutput - achieved output\n",
    "    error= training_outputs - outputs\n",
    "    adjustment = error * sigmoid_derivative(outputs)\n",
    "    synaptic_weights += np.dot(input_layer.T,adjustment)\n",
    "\n",
    "print(\"synaptic weight after training\")\n",
    "print(synaptic_weights)\n",
    "print(\"output after trainging:\")\n",
    "print(outputs)\n",
    "    \n",
    "\n",
    "\n",
    "\n",
    "\n",
    "\n",
    "\n",
    "\n",
    "\n",
    "\n",
    "\n",
    "\n",
    "\n",
    "\n",
    "\n"
   ]
  },
  {
   "cell_type": "code",
   "execution_count": null,
   "metadata": {},
   "outputs": [],
   "source": [
    " "
   ]
  }
 ],
 "metadata": {
  "kernelspec": {
   "display_name": "Python 3",
   "language": "python",
   "name": "python3"
  },
  "language_info": {
   "codemirror_mode": {
    "name": "ipython",
    "version": 3
   },
   "file_extension": ".py",
   "mimetype": "text/x-python",
   "name": "python",
   "nbconvert_exporter": "python",
   "pygments_lexer": "ipython3",
   "version": "3.6.9"
  }
 },
 "nbformat": 4,
 "nbformat_minor": 4
}
