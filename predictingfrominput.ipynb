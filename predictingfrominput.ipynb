{
 "cells": [
  {
   "cell_type": "markdown",
   "metadata": {},
   "source": [
    "# Simple Neural Network Using Python"
   ]
  },
  {
   "cell_type": "code",
   "execution_count": 3,
   "metadata": {},
   "outputs": [
    {
     "name": "stdout",
     "output_type": "stream",
     "text": [
      "random synapsis output\n",
      "syanptic weight after training\n",
      "[[ 9.67299303]\n",
      " [-0.2078435 ]\n",
      " [-4.62963669]]\n",
      "input 1:1\n",
      "input 1:0\n",
      "input 1:1\n",
      "output data for the provided imput\n",
      "[0.99358931]\n"
     ]
    }
   ],
   "source": [
    "import numpy as np\n",
    "class NeuralNetwork():\n",
    "        \n",
    "        def __init__(self):\n",
    "                np.random.seed(1)\n",
    "                self.synaptic_weights = 2*np.random.random((3,1))-1\n",
    "         \n",
    "        def sigmoid(self,x):\n",
    "                return 1 / (1+np.exp(-x))\n",
    "# then we provide the training inputs\n",
    "\n",
    "#function to find the derivative of the sigmoid function \n",
    "        def sigmoid_derivative(self,x):\n",
    "                return x*(1-x)\n",
    "        def train(self,training_inputs,training_outputs,training_iterations):\n",
    "            for iterations in range(training_iterations):\n",
    "                output=self.think(training_inputs)\n",
    "                error=training_outputs-output\n",
    "                adjustment=np.dot(training_inputs.T,error*self.sigmoid_derivative(output))\n",
    "                self.synaptic_weights += adjustment\n",
    "        def think(self,inputs):\n",
    "            inputs =inputs.astype(float)\n",
    "            output = self.sigmoid(np.dot(inputs,self.synaptic_weights))\n",
    "            return output\n",
    "if __name__==\"__main__\":\n",
    "    neural_network=NeuralNetwork()\n",
    "    print(\"random synapsis output\")\n",
    "    training_inputs = np.array([[0,0,1],\n",
    "                           [1,1,1],\n",
    "                           [1,0,1],\n",
    "                           [0,1,1]])\n",
    "    training_outputs = np.array([[0,1,1,0]]).T\n",
    "    neural_network.train(training_inputs,training_outputs,10000)\n",
    "    print(\"syanptic weight after training\")\n",
    "    print(neural_network.synaptic_weights)\n",
    "    A=str(input(\"input 1:\"))\n",
    "    B=str(input(\"input 1:\"))\n",
    "    C=str(input(\"input 1:\"))\n",
    "    print(\"output data for the provided imput\")\n",
    "    print(neural_network.think(np.array([A,B,C])))\n",
    "    \n",
    "        \n",
    "                "
   ]
  },
  {
   "cell_type": "code",
   "execution_count": null,
   "metadata": {},
   "outputs": [],
   "source": []
  }
 ],
 "metadata": {
  "kernelspec": {
   "display_name": "Python 3",
   "language": "python",
   "name": "python3"
  },
  "language_info": {
   "codemirror_mode": {
    "name": "ipython",
    "version": 3
   },
   "file_extension": ".py",
   "mimetype": "text/x-python",
   "name": "python",
   "nbconvert_exporter": "python",
   "pygments_lexer": "ipython3",
   "version": "3.6.9"
  }
 },
 "nbformat": 4,
 "nbformat_minor": 4
}
